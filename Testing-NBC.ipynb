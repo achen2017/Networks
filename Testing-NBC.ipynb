{
 "cells": [
  {
   "cell_type": "code",
   "execution_count": 2,
   "metadata": {
    "collapsed": true
   },
   "outputs": [],
   "source": [
    "import feedparser\n",
    "import requests\n",
    "from bs4 import BeautifulSoup"
   ]
  },
  {
   "cell_type": "code",
   "execution_count": 8,
   "metadata": {
    "collapsed": false
   },
   "outputs": [
    {
     "name": "stdout",
     "output_type": "stream",
     "text": [
      " NEW YORK - Bernie Sanders' campaign is under fire again for comments made by a supporter at a campaign event, this time after a speaker at Sanders' massive Manhattan rally Wednesday night decried \"corporate Democratic whores.\"  The speaker, health care activist Dr. Paul Song, quickly apologized. \"I am very sorry for using the term 'whore' to refer to some in congress who are beholden to corporations and not us. It was insensitive,\" he wrote on Twitter.  But the comment, which came during the early pre-program at Sanders' near-record-breaking 27,000 person rally, nonetheless drew quick rebukes from Hillary Clinton supporters, some of whom viewed it as a sexist attack aimed at the former secretary of state.  RELATED: Tim Robbins Becomes the Latest Sanders Surrogate to Veer Off Message  Jennifer Palmieri, the Clinton campaign's communications director, called on Sanders to publicly denounce the remark. \"Very distressing language to say the least,\" Palmieri wrote on Twitter, calling on Sanders to \"disavow\" the comment.  Sanders on Thursday morning responded to the remarks on Twitter, calling Song's comment \"inappropriate and insensitive.\" Dr. Song's comment was inappropriate and insensitive. There's no room for language like that in our political discourse. Song, the executive chairman of the California-based Courage Campaign and the husband of journalist Lisa Ling, who supports Clinton, denies that he had Clinton in mind. \"I have never said anything personal about her. Am deeply sorry for my poor choice of words. It was truly about congress,\" he added on Twitter.  The comment came in the context of Song calling for sweeping health care reform.  \"Now Secretary Clinton has said that Medicare for all will never happen. Well, I agree with Secretary Clinton that Medicare for all will never happen if we have a president who never aspires for something greater than the status quo. Medicare for all will never happen if we continue to elect corporate Democratic whores who are beholden to big pharma and the private insurance industry instead of us,\" he said from the stage of the Washington Square Park rally.  PHOTOS: New York 'Feels the Bern' at Huge Sanders Rally  \"I worry about the tone … I think it's really important we keep the tone where it should be. It is unacceptable for anybody to reference Hillary Clinton as a corporate whore,\" Sen. Claire McCaskill, a Clinton backer, said on MSNBC's \"Morning Joe\" Thursday morning.  \"He should have done it from the podium,\" McCaskill added after learning that Sanders had just called the remarks unacceptable. \"The candidate has to step it.\"  It's hardly the first time a speaker at a Sanders event have created distractions. Actors Tim Robbins, Rosario Dawson, and Susan Sarandon have all been sources of controversy that threaten to overshadow Sanders' events. \n"
     ]
    }
   ],
   "source": [
    "from google import search_news\n",
    "\n",
    "\n",
    "\n",
    "# for link in links:    \n",
    "request_get_nbc = requests.get('http://www.nbcnews.com/politics/2016-election/sanders-under-fire-supporters-whores-remarks-n555846')\n",
    "\n",
    "soup_nbc = BeautifulSoup(request_get_nbc.text, 'html.parser')\n",
    "body_text_nbc = ''\n",
    "    \n",
    "\n",
    "for item in soup_nbc.find_all('div', {\"itemprop\" : 'articleBody'}):\n",
    "    for paragraph in item.find_all('p'):\n",
    "        body_text_nbc += paragraph.get_text()\n",
    "    \n",
    "    \n",
    "print(body_text_nbc)\n",
    "\n",
    "    \n",
    "\n"
   ]
  },
  {
   "cell_type": "code",
   "execution_count": null,
   "metadata": {
    "collapsed": true
   },
   "outputs": [],
   "source": []
  }
 ],
 "metadata": {
  "kernelspec": {
   "display_name": "Python 3",
   "language": "python",
   "name": "python3"
  },
  "language_info": {
   "codemirror_mode": {
    "name": "ipython",
    "version": 3
   },
   "file_extension": ".py",
   "mimetype": "text/x-python",
   "name": "python",
   "nbconvert_exporter": "python",
   "pygments_lexer": "ipython3",
   "version": "3.5.1"
  }
 },
 "nbformat": 4,
 "nbformat_minor": 0
}
