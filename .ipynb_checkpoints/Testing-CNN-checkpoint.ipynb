{
 "cells": [
  {
   "cell_type": "code",
   "execution_count": 4,
   "metadata": {
    "collapsed": true
   },
   "outputs": [],
   "source": [
    "import feedparser\n",
    "import requests\n",
    "from bs4 import BeautifulSoup"
   ]
  },
  {
   "cell_type": "code",
   "execution_count": 5,
   "metadata": {
    "collapsed": true
   },
   "outputs": [],
   "source": [
    "target_article_rss = feedparser.parse('http://rss.nytimes.com/services/xml/rss/nyt/Europe.xml')['entries']"
   ]
  },
  {
   "cell_type": "code",
   "execution_count": 6,
   "metadata": {
    "collapsed": false,
    "scrolled": true
   },
   "outputs": [
    {
     "data": {
      "text/plain": [
       "{'author': 'RAVI SOMAIYA',\n",
       " 'author_detail': {'name': 'RAVI SOMAIYA'},\n",
       " 'authors': [{'name': 'RAVI SOMAIYA'}],\n",
       " 'guidislink': False,\n",
       " 'id': 'http://www.nytimes.com/2016/04/14/world/europe/a-hoax-plot-cloaked-in-a-ukrainian-interview.html',\n",
       " 'link': 'http://rss.nytimes.com/c/34625/f/640334/s/4eece1bf/sc/38/l/0L0Snytimes0N0C20A160C0A40C140Cworld0Ceurope0Ca0Ehoax0Eplot0Ecloaked0Ein0Ea0Eukrainian0Einterview0Bhtml0Dpartner0Frss0Gemc0Frss/story01.htm',\n",
       " 'links': [{'href': 'http://www.nytimes.com/2016/04/14/world/europe/a-hoax-plot-cloaked-in-a-ukrainian-interview.html?partner=rss&emc=rss',\n",
       "   'rel': 'standout',\n",
       "   'type': 'text/html'},\n",
       "  {'href': 'http://rss.nytimes.com/c/34625/f/640334/s/4eece1bf/sc/38/l/0L0Snytimes0N0C20A160C0A40C140Cworld0Ceurope0Ca0Ehoax0Eplot0Ecloaked0Ein0Ea0Eukrainian0Einterview0Bhtml0Dpartner0Frss0Gemc0Frss/story01.htm',\n",
       "   'rel': 'alternate',\n",
       "   'type': 'text/html'}],\n",
       " 'published': 'Thu, 14 Apr 2016 00:44:20 GMT',\n",
       " 'published_parsed': time.struct_time(tm_year=2016, tm_mon=4, tm_mday=14, tm_hour=0, tm_min=44, tm_sec=20, tm_wday=3, tm_yday=105, tm_isdst=0),\n",
       " 'summary': 'The intrigue began last week when The New York Times received a letter on official-looking stationery marked “President of Ukraine.”<br clear=\\'all\\'/><br/><br/><a href=\"http://rc.feedsportal.com/r/257413303584/u/57/f/640334/c/34625/s/4eece1bf/sc/38/rc/1/rc.htm\" rel=\"nofollow\"><img src=\"http://rc.feedsportal.com/r/257413303584/u/57/f/640334/c/34625/s/4eece1bf/sc/38/rc/1/rc.img\" border=\"0\"/></a><br/><br/><a href=\"http://rc.feedsportal.com/r/257413303584/u/57/f/640334/c/34625/s/4eece1bf/sc/38/rc/2/rc.htm\" rel=\"nofollow\"><img src=\"http://rc.feedsportal.com/r/257413303584/u/57/f/640334/c/34625/s/4eece1bf/sc/38/rc/2/rc.img\" border=\"0\"/></a><br/><br/><a href=\"http://rc.feedsportal.com/r/257413303584/u/57/f/640334/c/34625/s/4eece1bf/sc/38/rc/3/rc.htm\" rel=\"nofollow\"><img src=\"http://rc.feedsportal.com/r/257413303584/u/57/f/640334/c/34625/s/4eece1bf/sc/38/rc/3/rc.img\" border=\"0\"/></a><br/><br/><a href=\"http://da.feedsportal.com/r/257413303584/u/57/f/640334/c/34625/s/4eece1bf/sc/38/a2.htm\"><img src=\"http://da.feedsportal.com/r/257413303584/u/57/f/640334/c/34625/s/4eece1bf/sc/38/a2.img\" border=\"0\"/></a><br/><a href=\"http://adchoice.feedsportal.com/r/257413303584/u/57/f/640334/c/34625/s/4eece1bf/sc/38/ach.htm\"><img src=\"http://adchoice.feedsportal.com/r/257413303584/u/57/f/640334/c/34625/s/4eece1bf/sc/38/ach.img\" border=\"0\"/></a><img width=\"1\" height=\"1\" src=\"http://pi.feedsportal.com/r/257413303584/u/57/f/640334/c/34625/s/4eece1bf/sc/38/a2t.img\" border=\"0\"/><img width=\"1\" height=\"1\" src=\"http://pi2.feedsportal.com/r/257413303584/u/57/f/640334/c/34625/s/4eece1bf/sc/38/a2t2.img\" border=\"0\"/><img width=\\'1\\' height=\\'1\\' src=\\'http://rss.nytimes.com/c/34625/f/640334/s/4eece1bf/sc/38/mf.gif\\' border=\\'0\\'/>',\n",
       " 'summary_detail': {'base': 'http://rss.nytimes.com/services/xml/rss/nyt/Europe.xml',\n",
       "  'language': None,\n",
       "  'type': 'text/html',\n",
       "  'value': 'The intrigue began last week when The New York Times received a letter on official-looking stationery marked “President of Ukraine.”<br clear=\\'all\\'/><br/><br/><a href=\"http://rc.feedsportal.com/r/257413303584/u/57/f/640334/c/34625/s/4eece1bf/sc/38/rc/1/rc.htm\" rel=\"nofollow\"><img src=\"http://rc.feedsportal.com/r/257413303584/u/57/f/640334/c/34625/s/4eece1bf/sc/38/rc/1/rc.img\" border=\"0\"/></a><br/><br/><a href=\"http://rc.feedsportal.com/r/257413303584/u/57/f/640334/c/34625/s/4eece1bf/sc/38/rc/2/rc.htm\" rel=\"nofollow\"><img src=\"http://rc.feedsportal.com/r/257413303584/u/57/f/640334/c/34625/s/4eece1bf/sc/38/rc/2/rc.img\" border=\"0\"/></a><br/><br/><a href=\"http://rc.feedsportal.com/r/257413303584/u/57/f/640334/c/34625/s/4eece1bf/sc/38/rc/3/rc.htm\" rel=\"nofollow\"><img src=\"http://rc.feedsportal.com/r/257413303584/u/57/f/640334/c/34625/s/4eece1bf/sc/38/rc/3/rc.img\" border=\"0\"/></a><br/><br/><a href=\"http://da.feedsportal.com/r/257413303584/u/57/f/640334/c/34625/s/4eece1bf/sc/38/a2.htm\"><img src=\"http://da.feedsportal.com/r/257413303584/u/57/f/640334/c/34625/s/4eece1bf/sc/38/a2.img\" border=\"0\"/></a><br/><a href=\"http://adchoice.feedsportal.com/r/257413303584/u/57/f/640334/c/34625/s/4eece1bf/sc/38/ach.htm\"><img src=\"http://adchoice.feedsportal.com/r/257413303584/u/57/f/640334/c/34625/s/4eece1bf/sc/38/ach.img\" border=\"0\"/></a><img width=\"1\" height=\"1\" src=\"http://pi.feedsportal.com/r/257413303584/u/57/f/640334/c/34625/s/4eece1bf/sc/38/a2t.img\" border=\"0\"/><img width=\"1\" height=\"1\" src=\"http://pi2.feedsportal.com/r/257413303584/u/57/f/640334/c/34625/s/4eece1bf/sc/38/a2t2.img\" border=\"0\"/><img width=\\'1\\' height=\\'1\\' src=\\'http://rss.nytimes.com/c/34625/f/640334/s/4eece1bf/sc/38/mf.gif\\' border=\\'0\\'/>'},\n",
       " 'tags': [{'label': None,\n",
       "   'scheme': 'http://www.nytimes.com/namespaces/keywords/nyt_per',\n",
       "   'term': 'Poroshenko, Petro Olekseyevich'},\n",
       "  {'label': None,\n",
       "   'scheme': 'http://www.nytimes.com/namespaces/keywords/des',\n",
       "   'term': 'e-mail'},\n",
       "  {'label': None,\n",
       "   'scheme': 'http://www.nytimes.com/namespaces/keywords/nyt_geo',\n",
       "   'term': 'Ukraine'},\n",
       "  {'label': None,\n",
       "   'scheme': 'http://www.nytimes.com/namespaces/keywords/nyt_org_all',\n",
       "   'term': 'New York Times'},\n",
       "  {'label': None,\n",
       "   'scheme': 'http://www.nytimes.com/namespaces/keywords/mdes',\n",
       "   'term': 'Hoaxes and Pranks'},\n",
       "  {'label': None,\n",
       "   'scheme': 'http://www.nytimes.com/namespaces/keywords/mdes',\n",
       "   'term': 'News and News Media'}],\n",
       " 'title': 'A Hoax Plot, Cloaked in a Ukrainian Interview',\n",
       " 'title_detail': {'base': 'http://rss.nytimes.com/services/xml/rss/nyt/Europe.xml',\n",
       "  'language': None,\n",
       "  'type': 'text/plain',\n",
       "  'value': 'A Hoax Plot, Cloaked in a Ukrainian Interview'}}"
      ]
     },
     "execution_count": 6,
     "metadata": {},
     "output_type": "execute_result"
    }
   ],
   "source": [
    "target_article_rss[0]"
   ]
  },
  {
   "cell_type": "code",
   "execution_count": 15,
   "metadata": {
    "collapsed": false
   },
   "outputs": [
    {
     "name": "stdout",
     "output_type": "stream",
     "text": [
      " (CNN)According to the calendar, it's barely even spring.But according to Hollywood's calendar, summer movie season has started.\"Batman v Superman: Dawn of Justice,\" which opens Friday, has all the hallmarks of a summer blockbuster. Comic book superheroes? Check. Overpowering CGI? Check. A monstrous budget -- estimated at $250 million -- that will require \"Avengers\"- and \"Star Wars\"-like box office grosses to avoid the taint of megabomb?Batman v Superman: Who are fans rooting for?You bet. (Or Warner Bros. is betting, anyway. The studio is a unit of Time Warner, as is CNN.)Following \"Batman v Superman,\" the big releases come fast and furious right through Memorial Day, the traditional beginning of the summer season. And no wonder: Last year, \"Furious 7,\" the latest in the \"Fast and Furious\" series, opened the first weekend in April. There's no need to wait for May to release a blockbuster.With that in mind, here are five films we're looking forward to, both before and after summer really begins:'Batman v Superman: Dawn of Justice'The early reviews of \"Batman v Superman\" have been mixed. The film was earning approval ratings in the low 30s on review aggregator Rotten Tomatoes, with some critics praising its \"operatic grandeur\" and others saying that it's \"not fun.\"Review: 'Batman v Superman: Dawn of Justice'Certainly, the film offers some intriguing comparisons and mixes: Batman and Superman, vigilante justice and due process, Ben Affleck and the memory of everyone else who's ever played Batman. But perhaps the most interesting is the blend of director Zack Snyder, the action-loving veteran of \"300\" and \"Watchmen,\" and screenwriter Chris Terrio, the cerebral scribe who won an Oscar for \"Argo.\" Not that there's any warfare between the two. Terrio, who told the Wall Street Journal that the first movie he ever saw was \"Superman II,\" has praised the source material as the stuff of mythology, comparing Superman and Batman to the Roman gods Apollo and Pluto. As for Snyder, he's got a major voice in developing the \"Justice League\" movies, so he presumably agreed when star (and \"Argo\" director) Ben Affleck decided to bring in Terrio for a rewrite. Nevertheless, there's a natural friction here. Imagine Michael Bay directing Charlie Kaufman or McG handling Aaron Sorkin. Does it work? The critics have weighed in; now it's time for audiences to decide. (March 25) 'Money Monster'Last year's \"The Big Short\" took on the financial crisis using bitter comedy, complete with oddball explanatory cameos. \"Money Monster\" goes the melodrama route, with a TV investment pundit, played by George Clooney, held hostage by a blue-collar worker (Jack O'Connell) who's lost his savings.It's got a terrific cast -- besides Clooney and O'Connell, you've got Julia Roberts, Dominic West and Giancarlo Esposito -- and Jodie Foster directs. But will audiences go see it? You don't need a movie to feel the anger created by the financial crisis; you just have to watch a campaign rally. (May 13)'Finding Dory'Pixar has a mixed record when it comes to sequels. The \"Toy Story\" movies have been increasingly brilliant. On the other hand, \"Cars 2\" and \"Monsters University\" were weaker than the originals. \"Finding Dory\" focuses on the absent-minded tang fish (Ellen DeGeneres) who provided some of the funniest moments of 2003's \"Finding Nemo.\" Now, it's Dory who's trying to get home -- to her parents. Albert Brooks returns as Nemo's father, Marlin, and joining the cast are Diane Keaton, Eugene Levy, Ed O'Neill and Kaitlin Olsen. Also returning: director-writer Andrew Stanton. Will \"Dory\" be on the level of his \"WALL-E\" -- or his live-action \"John Carter\"? Such questions may be beside the point. Pixar and Dory pretty much guarantee a flood of good business. (June 17)'The BFG'Little is known about this Steven Spielberg film beyond the Roald Dahl source material, which concerns a gentle giant who befriends a young girl and takes her to Giant Country. Recent Oscar winner Mark Rylance, who played spy Rudolf Abel in Spielberg's \"Bridge of Spies,\" is the giant; newcomer Ruby Barnhill plays the girl, Sophie. The film also boasts a script from \"E.T.\" writer Melissa Mathison. Together, it sounds like the formula for a peerless family film. Hey, it even has a title of initials -- just like \"E.T.\" That has to be a good sign, right? (July 1)'Ghostbusters'Few films have been the subject of more chatter than this new version of the 1984 comedy classic, this time cast with women and directed by Paul Feig. The Internet has pored over and debated every detail: Yay, Melissa McCarthy!  What does the new Ecto-1 look like?  Glad the original crew is coming back, but what about Rick Moranis? And why isn't Leslie Jones playing a scientist?  Sheesh, Internet. Are you afraid of ghosts or something? (July 15)\n"
     ]
    }
   ],
   "source": [
    "from google import search_news\n",
    "\n",
    "links = []\n",
    "\n",
    "for url in search_news('batman site:http://www.cnn.com/', stop = 5):\n",
    "    links.append(url)\n",
    "\n",
    "\n",
    "    \n",
    "# for link in links:    \n",
    "request_get_cnn = requests.get('http://www.cnn.com/2016/03/24/entertainment/batman-v-superman-summer-movies-feat/')\n",
    "\n",
    "soup_cnn = BeautifulSoup(request_get_cnn.text, 'html.parser')\n",
    "body_text_cnn = ''\n",
    "    \n",
    "\n",
    "for item in soup_cnn.find_all('', {\"class\" : 'zn-body__paragraph'}):\n",
    "   \n",
    "    body_text_cnn += item.get_text()\n",
    "    \n",
    "print(body_text_cnn)\n",
    "    \n",
    "\n"
   ]
  },
  {
   "cell_type": "code",
   "execution_count": null,
   "metadata": {
    "collapsed": true
   },
   "outputs": [],
   "source": []
  }
 ],
 "metadata": {
  "kernelspec": {
   "display_name": "Python 3",
   "language": "python",
   "name": "python3"
  },
  "language_info": {
   "codemirror_mode": {
    "name": "ipython",
    "version": 3
   },
   "file_extension": ".py",
   "mimetype": "text/x-python",
   "name": "python",
   "nbconvert_exporter": "python",
   "pygments_lexer": "ipython3",
   "version": "3.5.1"
  }
 },
 "nbformat": 4,
 "nbformat_minor": 0
}
