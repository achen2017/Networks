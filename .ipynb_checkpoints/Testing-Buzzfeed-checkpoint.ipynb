{
 "cells": [
  {
   "cell_type": "code",
   "execution_count": 1,
   "metadata": {
    "collapsed": true
   },
   "outputs": [],
   "source": [
    "import feedparser\n",
    "import requests\n",
    "from bs4 import BeautifulSoup"
   ]
  },
  {
   "cell_type": "code",
   "execution_count": 13,
   "metadata": {
    "collapsed": false
   },
   "outputs": [],
   "source": [
    "from google import search_news\n",
    "\n",
    "\n",
    "    \n",
    "# for link in links:    \n",
    "request_get_cnn = requests.get('http://www.buzzfeed.com/mikegiglio/how-to-lose-your-mind-to-isis-and-then-fight-to-get-it-back#.wakRqRyDV')\n",
    "\n",
    "soup_cnn = BeautifulSoup(request_get_cnn.text, 'html.parser')\n",
    "body_text_cnn = ''\n",
    "    \n",
    "\n",
    "for item in soup_cnn.find_all('div', {\"class\" : 'buzz_superlist_item_text'}):\n",
    "   \n",
    "    if item.has_attr('buzz-superlist-item-image'):  ## can't seem to get this to work, this will allow us to take out any text associated with photos\n",
    "        print(\"BLAHBLAHBALH\")\n",
    "    else:\n",
    "        body_text_cnn += item.get_text()\n",
    "    \n",
    "    \n",
    "print(body_text_cnn)\n",
    "\n",
    "    \n",
    "\n"
   ]
  },
  {
   "cell_type": "code",
   "execution_count": null,
   "metadata": {
    "collapsed": true
   },
   "outputs": [],
   "source": []
  }
 ],
 "metadata": {
  "kernelspec": {
   "display_name": "Python 3",
   "language": "python",
   "name": "python3"
  },
  "language_info": {
   "codemirror_mode": {
    "name": "ipython",
    "version": 3
   },
   "file_extension": ".py",
   "mimetype": "text/x-python",
   "name": "python",
   "nbconvert_exporter": "python",
   "pygments_lexer": "ipython3",
   "version": "3.5.1"
  }
 },
 "nbformat": 4,
 "nbformat_minor": 0
}
