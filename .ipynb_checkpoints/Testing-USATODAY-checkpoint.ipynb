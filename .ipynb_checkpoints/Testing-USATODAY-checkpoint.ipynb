{
 "cells": [
  {
   "cell_type": "code",
   "execution_count": 1,
   "metadata": {
    "collapsed": true
   },
   "outputs": [],
   "source": [
    "import feedparser\n",
    "import requests\n",
    "from bs4 import BeautifulSoup"
   ]
  },
  {
   "cell_type": "code",
   "execution_count": 5,
   "metadata": {
    "collapsed": false
   },
   "outputs": [
    {
     "name": "stdout",
     "output_type": "stream",
     "text": [
      "Lowell McAdam became CEO of Verizon in August 2011.(Photo: Mark Lennihan, AP)Presidential candidate Bernie Sanders is expanding his sparring attack on CEOs. The latest exec in Sanders' sights: Verizon's Lowell McAdam.The Democratic senator accused the telecommunications giant of \"corporate greed\" for its plans to \"outsource decent paying jobs\" while paying high executive wages and avoiding federal taxes, while talking to striking Verizon workers in Brooklyn, N.Y., Wednesday. \"You have chosen to stand up for dignity, for justice and to take on an enormously powerful special interest,\" he told them.Sanders comments come just more than a week after his criticism of General Electric for \"destroying the moral fabric of our country\" also for outsourcing jobs and tax avoidance. GE CEO Jeffrey Immelt fired back in an op-ed piece in The Washington Post that \"we’ve never been a big hit with socialists. We create wealth and jobs, instead of just calling for them in speeches.\"Similarly, Verizon's McAdam wasn't backing down from Sanders and responded with an essay on LinkedIn entitled Feeling The Bern of Reality -- The Facts About Verizon and The 'Moral Economy'.  McAdam called Sanders' views \"uninformed\" and \"contemptible,\" and noted the company had paid more than $15.6 billion in taxes over the last two years.USA TODAYNearly 40,000 Verizon workers go on strikeAs for Sanders’ claims that Verizon wants workers to take pay cuts and reduced health benefits rather than have jobs outsourced or shipped overseas, McAdam said Sanders \"oversimplifies the complex forces operating in today’s technologically advanced and hyper-competitive economy. ... Our objective in these negotiations is to preserve good jobs with competitive wages and excellent benefits while addressing the needs of our ever-changing business.\"The back-and-forth came during the first day of a strike by 40,000 Verizon employees -- members of the Communications Workers of America and International Brotherhood of Electrical Workers. More than ten months of negotiations between Verizon and the unions failed to yield a replacement for the contract that expired Aug. 1, 2015.After McAdam posted his commentary, Sanders fired back on Twitter that \"I don’t want the support of McAdam, (GE CEO Jeffrey) Immelt and their friends in the billionaire class. I welcome their contempt.\"CINCINNATI.COMFinneytown's Immelt: Bernie Sanders 'wrong' about GECitizens for Tax Justice, a tax fairness advocacy group, found some fault with McAdams' statement that Verizon paid a 35% tax rate in 2015. Instead, its analysis of the telecom company's SEC filings suggests that Verizon's 2015 U.S. tax bill was about $5.5 billion, a 23% tax rate based on its $23.8 billion in pretax profit.McAdam is \"likely is tallying the company’s global taxes to make this claim,\" wrote CTJ director Bob McIntyre in the post on the group's web site.Over the last 15 years, Verizon's federal tax bill has averaged 12.4%, and the company paid no taxes in five years over that period, the group found.\"While there is no indication that this spectacular feat of tax avoidance is anything but legal (the company’s consistently low tax rates are most likely due to overly generous accelerated depreciation tax provisions that Congress has expanded over the last decade), few Americans would describe the company avoiding tax on $78 billion of profits as 'fair',\" McIntyre wrote.Verizon did not provide exact numbers on its taxes paid, but company spokesman Richard Young said that \"(Sanders) needs to get his facts straight and so does this group. Verizon pays billions in local, state and federal taxes each year.  The Senator and his friends need to find a new calculator.\"For his part, McAdam visited several Verizon work sites in New York on Thursday. He spoke to customers as well as striking employees and workers from other Verizon locations who are filling the strikers' jobs. Topics discussed, Young said, \"our offer on the table and the need to bring in non-union Verizon employees to fill-in for those engaged in this union-led strike. He also urged these striking workers to 'get the facts' from a source other than the union.\"Verizon (VZ) shares were up 0.1% Thursday to $51.34.I don’t want the support of McAdam, Immelt and their friends in the billionaire class. I welcome their contempt. https://t.co/OIiykGeHQTFollow Mike Snider on Twitter: @MikeSnider\n"
     ]
    }
   ],
   "source": [
    "from google import search_news\n",
    "\n",
    "\n",
    "# sanders site:http://www.usatoday.com\n",
    "# for link in links:    \n",
    "request_get_usatd = requests.get('http://www.usatoday.com/story/tech/news/2016/04/14/verizon-ceo-bernie-sanders-spar-over-strike/83021704/')\n",
    "\n",
    "soup_usatd = BeautifulSoup(request_get_usatd.text, 'html.parser')\n",
    "body_text_usatd = ''\n",
    "    \n",
    "\n",
    "\n",
    "for item in soup_usatd.find_all('div', {\"itemprop\" : 'articleBody'}):\n",
    "    for paragraph in item.find_all('p'):\n",
    "        body_text_usatd += paragraph.get_text()\n",
    "    \n",
    "    \n",
    "print(body_text_usatd)\n",
    "\n",
    "    \n",
    "\n"
   ]
  },
  {
   "cell_type": "code",
   "execution_count": null,
   "metadata": {
    "collapsed": true
   },
   "outputs": [],
   "source": []
  }
 ],
 "metadata": {
  "kernelspec": {
   "display_name": "Python 3",
   "language": "python",
   "name": "python3"
  },
  "language_info": {
   "codemirror_mode": {
    "name": "ipython",
    "version": 3
   },
   "file_extension": ".py",
   "mimetype": "text/x-python",
   "name": "python",
   "nbconvert_exporter": "python",
   "pygments_lexer": "ipython3",
   "version": "3.5.1"
  }
 },
 "nbformat": 4,
 "nbformat_minor": 0
}
