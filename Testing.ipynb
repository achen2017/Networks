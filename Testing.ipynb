{
 "cells": [
  {
   "cell_type": "code",
   "execution_count": 9,
   "metadata": {
    "collapsed": true
   },
   "outputs": [],
   "source": [
    "import feedparser\n",
    "import requests\n",
    "from bs4 import BeautifulSoup"
   ]
  },
  {
   "cell_type": "code",
   "execution_count": 2,
   "metadata": {
    "collapsed": true
   },
   "outputs": [],
   "source": [
    "target_article_rss = feedparser.parse('http://rss.nytimes.com/services/xml/rss/nyt/Europe.xml')['entries']"
   ]
  },
  {
   "cell_type": "code",
   "execution_count": 4,
   "metadata": {
    "collapsed": false,
    "scrolled": true
   },
   "outputs": [
    {
     "data": {
      "text/plain": [
       "{'author': 'JAMES KANTER',\n",
       " 'author_detail': {'name': 'JAMES KANTER'},\n",
       " 'authors': [{'name': 'JAMES KANTER'}],\n",
       " 'content': [{'base': 'http://rss.nytimes.com/services/xml/rss/nyt/Europe.xml',\n",
       "   'language': None,\n",
       "   'type': 'text/plain',\n",
       "   'value': 'An Amazon warehouse in Brieselang, Germany. The firm is among several multinational companies that have been the targets of European tax inquiries.'}],\n",
       " 'credit': 'Sean Gallup/Getty Images',\n",
       " 'guidislink': False,\n",
       " 'id': 'http://www.nytimes.com/2016/04/13/business/international/european-union-corporate-taxes.html',\n",
       " 'link': 'http://rss.nytimes.com/c/34625/f/640334/s/4ee35c27/sc/24/l/0L0Snytimes0N0C20A160C0A40C130Cbusiness0Cinternational0Ceuropean0Eunion0Ecorporate0Etaxes0Bhtml0Dpartner0Frss0Gemc0Frss/story01.htm',\n",
       " 'links': [{'href': 'http://www.nytimes.com/2016/04/13/business/international/european-union-corporate-taxes.html?partner=rss&emc=rss',\n",
       "   'rel': 'standout',\n",
       "   'type': 'text/html'},\n",
       "  {'href': 'http://rss.nytimes.com/c/34625/f/640334/s/4ee35c27/sc/24/l/0L0Snytimes0N0C20A160C0A40C130Cbusiness0Cinternational0Ceuropean0Eunion0Ecorporate0Etaxes0Bhtml0Dpartner0Frss0Gemc0Frss/story01.htm',\n",
       "   'rel': 'alternate',\n",
       "   'type': 'text/html'}],\n",
       " 'media_content': [{'height': '151',\n",
       "   'lang': '',\n",
       "   'url': 'http://graphics8.nytimes.com/images/2016/04/13/business/13eutax-web1/13eutax-web1-moth.jpg',\n",
       "   'width': '151'}],\n",
       " 'media_credit': [{'content': 'Sean Gallup/Getty Images',\n",
       "   'scheme': 'urn:ebu'}],\n",
       " 'published': 'Tue, 12 Apr 2016 19:04:36 GMT',\n",
       " 'published_parsed': time.struct_time(tm_year=2016, tm_mon=4, tm_mday=12, tm_hour=19, tm_min=4, tm_sec=36, tm_wday=1, tm_yday=103, tm_isdst=0),\n",
       " 'summary': 'The proposed rules, in the works before the Panama Papers leak, are intended in some ways to lift the veil on similar types of corporate secrets.<br clear=\\'all\\'/><br/><br/><a href=\"http://rc.feedsportal.com/r/257413087293/u/57/f/640334/c/34625/s/4ee35c27/sc/24/rc/1/rc.htm\" rel=\"nofollow\"><img src=\"http://rc.feedsportal.com/r/257413087293/u/57/f/640334/c/34625/s/4ee35c27/sc/24/rc/1/rc.img\" border=\"0\"/></a><br/><br/><a href=\"http://rc.feedsportal.com/r/257413087293/u/57/f/640334/c/34625/s/4ee35c27/sc/24/rc/2/rc.htm\" rel=\"nofollow\"><img src=\"http://rc.feedsportal.com/r/257413087293/u/57/f/640334/c/34625/s/4ee35c27/sc/24/rc/2/rc.img\" border=\"0\"/></a><br/><br/><a href=\"http://rc.feedsportal.com/r/257413087293/u/57/f/640334/c/34625/s/4ee35c27/sc/24/rc/3/rc.htm\" rel=\"nofollow\"><img src=\"http://rc.feedsportal.com/r/257413087293/u/57/f/640334/c/34625/s/4ee35c27/sc/24/rc/3/rc.img\" border=\"0\"/></a><br/><br/><a href=\"http://da.feedsportal.com/r/257413087293/u/57/f/640334/c/34625/s/4ee35c27/sc/24/a2.htm\"><img src=\"http://da.feedsportal.com/r/257413087293/u/57/f/640334/c/34625/s/4ee35c27/sc/24/a2.img\" border=\"0\"/></a><br/><a href=\"http://adchoice.feedsportal.com/r/257413087293/u/57/f/640334/c/34625/s/4ee35c27/sc/24/ach.htm\"><img src=\"http://adchoice.feedsportal.com/r/257413087293/u/57/f/640334/c/34625/s/4ee35c27/sc/24/ach.img\" border=\"0\"/></a><img width=\"1\" height=\"1\" src=\"http://pi.feedsportal.com/r/257413087293/u/57/f/640334/c/34625/s/4ee35c27/sc/24/a2t.img\" border=\"0\"/><img width=\"1\" height=\"1\" src=\"http://pi2.feedsportal.com/r/257413087293/u/57/f/640334/c/34625/s/4ee35c27/sc/24/a2t2.img\" border=\"0\"/><img width=\\'1\\' height=\\'1\\' src=\\'http://rss.nytimes.com/c/34625/f/640334/s/4ee35c27/sc/24/mf.gif\\' border=\\'0\\'/>',\n",
       " 'summary_detail': {'base': 'http://rss.nytimes.com/services/xml/rss/nyt/Europe.xml',\n",
       "  'language': None,\n",
       "  'type': 'text/html',\n",
       "  'value': 'The proposed rules, in the works before the Panama Papers leak, are intended in some ways to lift the veil on similar types of corporate secrets.<br clear=\\'all\\'/><br/><br/><a href=\"http://rc.feedsportal.com/r/257413087293/u/57/f/640334/c/34625/s/4ee35c27/sc/24/rc/1/rc.htm\" rel=\"nofollow\"><img src=\"http://rc.feedsportal.com/r/257413087293/u/57/f/640334/c/34625/s/4ee35c27/sc/24/rc/1/rc.img\" border=\"0\"/></a><br/><br/><a href=\"http://rc.feedsportal.com/r/257413087293/u/57/f/640334/c/34625/s/4ee35c27/sc/24/rc/2/rc.htm\" rel=\"nofollow\"><img src=\"http://rc.feedsportal.com/r/257413087293/u/57/f/640334/c/34625/s/4ee35c27/sc/24/rc/2/rc.img\" border=\"0\"/></a><br/><br/><a href=\"http://rc.feedsportal.com/r/257413087293/u/57/f/640334/c/34625/s/4ee35c27/sc/24/rc/3/rc.htm\" rel=\"nofollow\"><img src=\"http://rc.feedsportal.com/r/257413087293/u/57/f/640334/c/34625/s/4ee35c27/sc/24/rc/3/rc.img\" border=\"0\"/></a><br/><br/><a href=\"http://da.feedsportal.com/r/257413087293/u/57/f/640334/c/34625/s/4ee35c27/sc/24/a2.htm\"><img src=\"http://da.feedsportal.com/r/257413087293/u/57/f/640334/c/34625/s/4ee35c27/sc/24/a2.img\" border=\"0\"/></a><br/><a href=\"http://adchoice.feedsportal.com/r/257413087293/u/57/f/640334/c/34625/s/4ee35c27/sc/24/ach.htm\"><img src=\"http://adchoice.feedsportal.com/r/257413087293/u/57/f/640334/c/34625/s/4ee35c27/sc/24/ach.img\" border=\"0\"/></a><img width=\"1\" height=\"1\" src=\"http://pi.feedsportal.com/r/257413087293/u/57/f/640334/c/34625/s/4ee35c27/sc/24/a2t.img\" border=\"0\"/><img width=\"1\" height=\"1\" src=\"http://pi2.feedsportal.com/r/257413087293/u/57/f/640334/c/34625/s/4ee35c27/sc/24/a2t2.img\" border=\"0\"/><img width=\\'1\\' height=\\'1\\' src=\\'http://rss.nytimes.com/c/34625/f/640334/s/4ee35c27/sc/24/mf.gif\\' border=\\'0\\'/>'},\n",
       " 'tags': [{'label': None,\n",
       "   'scheme': 'http://www.nytimes.com/namespaces/keywords/des',\n",
       "   'term': 'Corporate Taxes'},\n",
       "  {'label': None,\n",
       "   'scheme': 'http://www.nytimes.com/namespaces/keywords/nyt_org_all',\n",
       "   'term': 'European Union'},\n",
       "  {'label': None,\n",
       "   'scheme': 'http://www.nytimes.com/namespaces/keywords/nyt_org_all',\n",
       "   'term': 'Mossack Fonseca & Co'},\n",
       "  {'label': None,\n",
       "   'scheme': 'http://www.nytimes.com/namespaces/keywords/nyt_org_all',\n",
       "   'term': 'European Commission'},\n",
       "  {'label': None,\n",
       "   'scheme': 'http://www.nytimes.com/namespaces/keywords/des',\n",
       "   'term': 'Tax Shelters'}],\n",
       " 'title': 'European Union Calls for Big Companies to Disclose More Tax Data',\n",
       " 'title_detail': {'base': 'http://rss.nytimes.com/services/xml/rss/nyt/Europe.xml',\n",
       "  'language': None,\n",
       "  'type': 'text/plain',\n",
       "  'value': 'European Union Calls for Big Companies to Disclose More Tax Data'}}"
      ]
     },
     "execution_count": 4,
     "metadata": {},
     "output_type": "execute_result"
    }
   ],
   "source": [
    "target_article_rss[0]"
   ]
  },
  {
   "cell_type": "code",
   "execution_count": 5,
   "metadata": {
    "collapsed": true
   },
   "outputs": [],
   "source": [
    "request_get = requests.get(target_article_rss[0]['link'])"
   ]
  },
  {
   "cell_type": "code",
   "execution_count": 8,
   "metadata": {
    "collapsed": false
   },
   "outputs": [],
   "source": [
    "with open('example.html', 'w') as wfile:\n",
    "    print(request_get.text, file=wfile)"
   ]
  },
  {
   "cell_type": "code",
   "execution_count": 10,
   "metadata": {
    "collapsed": true
   },
   "outputs": [],
   "source": [
    "soup = BeautifulSoup(request_get.text, 'html.parser')"
   ]
  },
  {
   "cell_type": "code",
   "execution_count": 29,
   "metadata": {
    "collapsed": false
   },
   "outputs": [],
   "source": [
    "body_text = ''\n",
    "for part in soup.find_all(\"p\", {\"class\" : 'story-body-text story-content'}):\n",
    "    body_text += part.get_text() "
   ]
  },
  {
   "cell_type": "code",
   "execution_count": 30,
   "metadata": {
    "collapsed": false
   },
   "outputs": [
    {
     "data": {
      "text/plain": [
       "'BRUSSELS — European Union officials on Tuesday waded into the fight against international tax dodging, calling for the world’s biggest companies to disclose more data about their tax arrangements with the bloc’s member governments and to share information about offshore havens where they shelter money.The proposed new rules were in the planning before the recent leak of millions of documents from a Panamanian law firm, Mossack Fonseca. But European officials tweaked the plans in recent days to pay more attention to offshore holdings in light of the revelations in the Panama Papers.The Mossack Fonseca files revealed how some of the world’s richest or most powerful people may have used offshore bank accounts and shell companies to conceal their wealth or avoid taxes. The European proposal is primarily aimed at stopping multinational companies from shifting their profits around Europe to lower their tax bills.Multinational companies including Amazon, Anheuser-Busch InBev, Apple, Google and Starbucks have been part of investigations by the European Commission, the bloc’s executive arm, into the way some of the 28 member countries set taxes, including Belgium, Ireland, Luxembourg and the Netherlands.A long political fight may lie ahead for the proposals to become law. The proposed rules would very likely meet resistance from some business groups and possibly even European governments that use tax inducements to attract companies and jobs.And the authorities in popular tax havens like the British Virgin Islands, the Cayman Islands or the Channel Islands off Britain, might lobby to avoid being labeled “tax jurisdictions which do not respect international tax good governance standards” — as a European Union memo on the proposed rules stated, without naming any names. Deciding which jurisdictions end up the European Union’s blacklist could prove diplomatically sensitive.“Drafting these lists, and pulling up the right names for tax havens, is a very political process, that’s clear,” said Guntram B. Wolff, the director of Bruegel, a research organization in Brussels. “But the commission toughened up since the release of the Panama Papers, partly as the mood shifted and partly because of backing from France and Germany.”Commission officials emphasized on Tuesday that no decisions had been made about which countries might be included on the blacklist. And they promised to hold open discussions with any country under scrutiny.But in a news conference on Tuesday in Strasbourg, France, Jonathan Hill, the European commissioner for financial services, hinted at one country that could receive a close look. “If large multinationals active in Europe are paying tax in somewhere like Panama, to take one example,” Mr. Hill said, “they’d need to make that public.”Ray Smith, a lawyer in London with Clyde & Company who advises large companies on their tax affairs, said the Panama Papers scandal had “added grist to the mill of E.U. politicians calling for urgent reform.”But he also urged caution. “The concern is, as with any populist reforms, that any new rules made in haste may overlook the fact that low tax jurisdictions often play an important and legitimate role,” Mr. Smith said.The proposals might also be brandished by groups in favor of Britain’s leaving the European Union as evidence of “the strain of ever increasing E.U. regulation,” he said.There also was immediate opposition to the proposals from one major lobbying group for European businesses, which said the initiative went too far by usurping the role of the national tax authorities and by forcing companies to reveal too much.The proposals would make the European Union “a lone front-runner in terms of public disclosure” and they “risk undermining our attractiveness as a location for investment, particularly from overseas,” said Markus J. Breyer, the director general for BusinessEurope in Brussels.To become law, the rules would require the approval of the European Parliament and a majority of European Union governments. The rules would apply only to multinational companies with global revenues greater than 750 million euros a year, or about $855 million. That would include an estimated 6,000 companies doing business in Europe.Rather than establishing a central registry, the proposal would leave it to the bloc’s member states to enforce rules requiring companies to publish tax information on their corporate websites.The information, which would be broken down by country, would include the number of employees; net revenue, including money exchanged between third parties and between business units of a group; profit before tax; and income tax due and paid each year.High levels of accumulated earnings, such as profits that are not distributed but are held in certain countries, could be an indicator of attempts to avoid taxes.The European Commission chose not to require that even more information be released publicly after business groups warned against putting companies with European operations at a competitive disadvantage compared to other parts of the world.But for some advocates of tax overhauls, the rules do not go far enough because companies would mostly be allowed to publish aggregated data about their payments outside the European Union.“We still won’t know anything about the activities, tax payments and potential tax agreements by multinationals across most of the world,” said Elena Gaita, a policy officer in Brussels for Transparency International, which monitors corruption. “Another problem is that this environment is highly competitive,” she said, “so one country may not be a tax haven today but might become one tomorrow.”But the commission said the information would be sufficient to shame the companies that shift their profits mainly for tax purposes and would force them to consider changing their business practices.The overall transparency would “help the public see whether companies are acting in the best long-term interests of their shareholders from a reputational point of view,” Mr. Hill said at the news conference.Mr. Hill is an ally of Prime Minister David Cameron of Britain, who has been embroiled in political uproar because of money he made through an offshore trust established by his father. That trust was identified in the Panama Papers. Mr. Cameron, who said neither he nor his father had done anything illegal, has released information from his tax returns for the last six years.The European Union accelerated its efforts to curb tax avoidance in the wake of the financial crisis, which forced many governments to adopt austerity budgets, reduce public services and raise nominal tax rates.Critics contend that because tax engineering by big corporations allowed some multinationals to skirt taxes, small businesses and individual citizens bore the brunt of the impact. Politicians and policy makers sensitive to that criticism have called for banks and big corporations to pay more tax and to be less secretive about where their money goes.Margrethe Vestager, the European Union’s competition commissioner, has already ordered the Netherlands to recover back taxes from Starbucks and has told Belgium to do the same in the case of Anheuser-Busch InBev and a number of other companies.Ms. Vestager could still do the same in a pending case against Apple, which has a similar arrangement with Ireland, and in an inquiry into Amazon, which has a tax arrangement in Luxembourg.'"
      ]
     },
     "execution_count": 30,
     "metadata": {},
     "output_type": "execute_result"
    }
   ],
   "source": [
    "body_text"
   ]
  },
  {
   "cell_type": "code",
   "execution_count": null,
   "metadata": {
    "collapsed": true
   },
   "outputs": [],
   "source": []
  }
 ],
 "metadata": {
  "kernelspec": {
   "display_name": "Python 3",
   "language": "python",
   "name": "python3"
  },
  "language_info": {
   "codemirror_mode": {
    "name": "ipython",
    "version": 3
   },
   "file_extension": ".py",
   "mimetype": "text/x-python",
   "name": "python",
   "nbconvert_exporter": "python",
   "pygments_lexer": "ipython3",
   "version": "3.5.1"
  }
 },
 "nbformat": 4,
 "nbformat_minor": 0
}
