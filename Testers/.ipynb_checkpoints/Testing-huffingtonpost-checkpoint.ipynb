{
 "cells": [
  {
   "cell_type": "code",
   "execution_count": 1,
   "metadata": {
    "collapsed": false
   },
   "outputs": [],
   "source": [
    "import feedparser\n",
    "import requests\n",
    "from bs4 import BeautifulSoup\n",
    "from google import search_news\n",
    "from nltk.corpus import stopwords\n",
    "import re\n",
    "from gensim import corpora, models\n",
    "import gensim"
   ]
  },
  {
   "cell_type": "code",
   "execution_count": 11,
   "metadata": {
    "collapsed": false
   },
   "outputs": [
    {
     "name": "stdout",
     "output_type": "stream",
     "text": [
      "[[(0, 1), (1, 1), (2, 1), (3, 1), (4, 1), (5, 1), (6, 1), (7, 1), (8, 1), (9, 1), (10, 1), (11, 1), (12, 2), (13, 1), (14, 1), (15, 1), (16, 1), (17, 1), (18, 3), (19, 1), (20, 3), (21, 1), (22, 1), (23, 1), (24, 1), (25, 1), (26, 1), (27, 1), (28, 1), (29, 1), (30, 1), (31, 2), (32, 1), (33, 1), (34, 1), (35, 1), (36, 1), (37, 1), (38, 1), (39, 1), (40, 1), (41, 1), (42, 1), (43, 1), (44, 1), (45, 2), (46, 1), (47, 1), (48, 1), (49, 2), (50, 1), (51, 1), (52, 1), (53, 1), (54, 1), (55, 2), (56, 1), (57, 1), (58, 1), (59, 1), (60, 1), (61, 1), (62, 1), (63, 1), (64, 3), (65, 1), (66, 1), (67, 1), (68, 1), (69, 1), (70, 1), (71, 1), (72, 1), (73, 1), (74, 1), (75, 1), (76, 1), (77, 1), (78, 2), (79, 1), (80, 1), (81, 1), (82, 1), (83, 1), (84, 1), (85, 1), (86, 2), (87, 1), (88, 1), (89, 1), (90, 1), (91, 1), (92, 1), (93, 1), (94, 1), (95, 1), (96, 1), (97, 1), (98, 1), (99, 1), (100, 1), (101, 1), (102, 2), (103, 1), (104, 1), (105, 1), (106, 2), (107, 1), (108, 1)], [(109, 1), (110, 2), (111, 1)]]\n"
     ]
    }
   ],
   "source": [
    "# for link in links:    \n",
    "request_get_hp = requests.get('http://www.huffingtonpost.com/entry/beyonce-ivy-park-clothing-photos_us_570e75f2e4b03d8b7b9f145f')\n",
    "\n",
    "soup_hp = BeautifulSoup(request_get_hp.text, 'html.parser')\n",
    "body_text_hp = ''\n",
    "    \n",
    "\n",
    "for item in soup_hp.find_all('div', {\"class\" : 'content-list-component text'}):\n",
    "    body_text_hp += item.get_text()\n",
    "       \n",
    "your_mom = [\"last\",\"week\", \"sent\", \"week\"]\n",
    "\n",
    "def wordlist(article_text):\n",
    "    letters_only = re.sub(\"[^a-zA-Z]\", \" \", article_text)\n",
    "    lower_case = letters_only.lower()\n",
    "    full_wordset = lower_case.split(' ')\n",
    "    article_words = [w for w in full_wordset if w not in stopwords.words(\"english\") and w not in ['', ' ']]\n",
    "    return article_words        \n",
    "bill = []\n",
    "bill.append(wordlist(body_text_hp))\n",
    "bill.append(your_mom)\n",
    "dictionary = corpora.Dictionary(bill)\n",
    "\n",
    "corpus = [dictionary.doc2bow(text) for text in bill]\n",
    "print(corpus)\n",
    "\n",
    "\n",
    "    \n",
    "\n"
   ]
  },
  {
   "cell_type": "code",
   "execution_count": 27,
   "metadata": {
    "collapsed": false
   },
   "outputs": [],
   "source": [
    "ldamodel = gensim.models.ldamodel.LdaModel(corpus, num_topics=3, id2word = dictionary, passes=20)"
   ]
  },
  {
   "cell_type": "code",
   "execution_count": 28,
   "metadata": {
    "collapsed": false
   },
   "outputs": [],
   "source": [
    "bill = ldamodel.print_topics(num_topics=3, num_words=3)"
   ]
  },
  {
   "cell_type": "code",
   "execution_count": 29,
   "metadata": {
    "collapsed": false
   },
   "outputs": [
    {
     "name": "stdout",
     "output_type": "stream",
     "text": [
      "[(0, '0.009*last + 0.009*sent + 0.009*week'), (1, '0.021*collection + 0.021*beyonc + 0.021*like'), (2, '0.056*week + 0.032*sent + 0.032*last')]\n"
     ]
    }
   ],
   "source": [
    "print (bill)"
   ]
  },
  {
   "cell_type": "code",
   "execution_count": 45,
   "metadata": {
    "collapsed": false
   },
   "outputs": [
    {
     "name": "stdout",
     "output_type": "stream",
     "text": [
      "[['last + 0.009', 'sent + 0.009', 'week'], ['collection + 0.021', 'beyonc + 0.021', 'like'], ['week + 0.032', 'sent + 0.032', 'last']]\n",
      "['week', 'like', 'last']\n"
     ]
    }
   ],
   "source": [
    "my_array = []\n",
    "my_array_two = []\n",
    "for item in bill:\n",
    "    my_array.append(item[1].split(\"*\"))\n",
    "\n",
    "    \n",
    "    \n",
    "\n",
    "# print(my_array)\n",
    "# for goat in my_array:\n",
    "#     goat.pop(0)\n",
    "#     my_array_two.append(goat[len(goat)-1])\n",
    "#     my_array_two.append(str(goat).split(' '))\n",
    "# print(my_array_two)"
   ]
  },
  {
   "cell_type": "code",
   "execution_count": null,
   "metadata": {
    "collapsed": true
   },
   "outputs": [],
   "source": []
  }
 ],
 "metadata": {
  "kernelspec": {
   "display_name": "Python 3",
   "language": "python",
   "name": "python3"
  },
  "language_info": {
   "codemirror_mode": {
    "name": "ipython",
    "version": 3
   },
   "file_extension": ".py",
   "mimetype": "text/x-python",
   "name": "python",
   "nbconvert_exporter": "python",
   "pygments_lexer": "ipython3",
   "version": "3.5.1"
  }
 },
 "nbformat": 4,
 "nbformat_minor": 0
}
