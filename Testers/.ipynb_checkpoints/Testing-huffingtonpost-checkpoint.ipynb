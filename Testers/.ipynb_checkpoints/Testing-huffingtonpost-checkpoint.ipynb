{
 "cells": [
  {
   "cell_type": "code",
   "execution_count": 5,
   "metadata": {
    "collapsed": true
   },
   "outputs": [],
   "source": [
    "import feedparser\n",
    "import requests\n",
    "from bs4 import BeautifulSoup\n",
    "from google import search_news"
   ]
  },
  {
   "cell_type": "code",
   "execution_count": 12,
   "metadata": {
    "collapsed": false
   },
   "outputs": [
    {
     "name": "stdout",
     "output_type": "stream",
     "text": [
      "Is it April 14 yet?\n",
      "Right on the heels of its video campaign and website launch, Beyoncé's athleisure clothing line Ivy Park has released images and prices of every single piece in the extensive, highly anticipated collection.\n",
      "Ranging from $25 for a tank top to $235 for a wrap back jacket, the collection has something for just about everybody who loves Beyoncé -- including a slew of items from bras to jackets emblazoned with the label's name. \n",
      "Check out the collection, which hits select stores and online retailers including Topshop, Net-A-Porter, and Nordstrom on Thursday -- and will inevitably sell out quickly. Several of the many pieces come in various colors and similar options, so we've left those out of the roundup. However, the slideshow below will still give you a full picture of the line's offerings:Like the many athleisure lines that have dropped before, the clothes are perfect for people who want to work out as well as those who want to look like they're going to workout, but really are headed to, say, brunch. For Beyoncé, though, the clothing is about more than just looks, it's about a feeling.\n",
      "\"I didn't feel like there was an athletic brand that spoke to me,\" she said in a press release. \"My goal with Ivy Park is to push the boundaries of athletic wear and to support and inspire women who understand that beauty is more than your physical appearance.\"\n"
     ]
    }
   ],
   "source": [
    "# for link in links:    \n",
    "request_get_hp = requests.get('http://www.huffingtonpost.com/entry/beyonce-ivy-park-clothing-photos_us_570e75f2e4b03d8b7b9f145f')\n",
    "\n",
    "soup_hp = BeautifulSoup(request_get_hp.text, 'html.parser')\n",
    "body_text_hp = ''\n",
    "    \n",
    "\n",
    "for item in soup_hp.find_all('div', {\"class\" : 'content-list-component text'}):\n",
    "    body_text_hp += item.get_text()\n",
    "       \n",
    "\n",
    "\n",
    "print(body_text_hp)\n",
    "\n",
    "    \n",
    "\n"
   ]
  },
  {
   "cell_type": "code",
   "execution_count": null,
   "metadata": {
    "collapsed": true
   },
   "outputs": [],
   "source": []
  }
 ],
 "metadata": {
  "kernelspec": {
   "display_name": "Python 3",
   "language": "python",
   "name": "python3"
  },
  "language_info": {
   "codemirror_mode": {
    "name": "ipython",
    "version": 3
   },
   "file_extension": ".py",
   "mimetype": "text/x-python",
   "name": "python",
   "nbconvert_exporter": "python",
   "pygments_lexer": "ipython3",
   "version": "3.5.1"
  }
 },
 "nbformat": 4,
 "nbformat_minor": 0
}
