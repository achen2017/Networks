{
 "cells": [
  {
   "cell_type": "code",
   "execution_count": 1,
   "metadata": {
    "collapsed": true
   },
   "outputs": [],
   "source": [
    "import feedparser\n",
    "import requests\n",
    "from bs4 import BeautifulSoup"
   ]
  },
  {
   "cell_type": "code",
   "execution_count": null,
   "metadata": {
    "collapsed": true
   },
   "outputs": [],
   "source": [
    "target_article_rss = feedparser.parse('http://rss.nytimes.com/services/xml/rss/nyt/Europe.xml')['entries']"
   ]
  },
  {
   "cell_type": "code",
   "execution_count": null,
   "metadata": {
    "collapsed": false,
    "scrolled": true
   },
   "outputs": [],
   "source": [
    "target_article_rss[0]"
   ]
  },
  {
   "cell_type": "code",
   "execution_count": 11,
   "metadata": {
    "collapsed": false
   },
   "outputs": [
    {
     "name": "stdout",
     "output_type": "stream",
     "text": [
      "['beverly', 'hills', 'calif', 'like', 'many', 'successful', 'actors', 'iwan', 'rheon', 'better', 'known', 'blithely', 'malicious', 'ramsay', 'bolton', 'game', 'thrones', 'arguably', 'hated', 'man', 'television', 'admits', 'concerned', 'narrowly', 'defined', 'indelible', 'character', 'ask', 'logical', 'follow', 'question', 'else', 'working', 'scale', 'challenge', 'becomes', 'clear', 'playing', 'young', 'hitler', 'replied', 'referring', 'british', 'television', 'movie', 'adolf', 'artist', 'realization', 'took', 'hold', 'face', 'crumpled', 'mock', 'despair', 'oh', 'typecast', 'already', 'life', 'man', 'behind', 'character', 'three', 'seasons', 'game', 'thrones', 'returning', 'sunday', 'hbo', 'become', 'emblem', 'disquieting', 'show', 'darkest', 'impulses', 'since', 'arriving', 'one', 'note', 'sadist', 'season', 'striving', 'legitimized', 'former', 'bastard', 'expanded', 'embody', 'story', 'dynastic', 'obsession', 'inflict', 'flagrant', 'abuses', 'list', 'includes', 'flaying', 'gelding', 'rivals', 'recreational', 'hunting', 'girl', 'controversial', 'last', 'season', 'wedding', 'night', 'rape', 'hostage', 'bride', 'sansa', 'stark', 'sophie', 'turner', 'schoolboy', 'glee', 'makes', 'much', 'viscerally', 'loathsome', 'mr', 'rheon', 'conceived', 'ramsay', 'mash', 'heath', 'ledger', 'unhinged', 'joker', 'dennis', 'menace', 'said', 'added', 'bit', 'swagger', 'liam', 'gallagher', 'dyspeptic', 'former', 'oasis', 'singer', 'resulting', 'confection', 'landed', 'many', 'hated', 'lists', 'online', 'december', 'readers', 'atlantic', 'voted', 'ramsay', 'actual', 'worst', 'character', 'television', 'likes', 'hannibal', 'lecter', 'walter', 'white', 'well', 'joffrey', 'baratheon', 'sneering', 'boy', 'king', 'ramsay', 'replaced', 'signature', 'game', 'thrones', 'villain', 'lost', 'joffrey', 'psychopath', 'shaped', 'hole', 'thrones', 'world', 'ms', 'turner', 'wrote', 'email', 'iwan', 'brings', 'terror', 'creepiness', 'joffrey', 'never', 'needed', 'someone', 'hate', 'love', 'hate', 'new', 'season', 'show', 'sixth', 'ramsay', 'deepens', 'mr', 'rheon', 'suggested', 'even', 'approaching', 'something', 'like', 'human', 'emotion', 'mourning', 'girlfriend', 'killed', 'season', 'finale', 'surprised', 'even', 'said', 'course', 'also', 'finds', 'seething', 'last', 'season', 'escape', 'captives', 'sansa', 'theon', 'alfie', 'allen', 'young', 'nobleman', 'castrated', 'forced', 'servitude', 'renamed', 'reek', 'sets', 'may', 'appalling', 'victim', 'yet', 'yet', 'unborn', 'stepsibling', 'could', 'competing', 'heir', 'game', 'thrones', 'moved', 'past', 'blueprint', 'good', 'thing', 'show', 'creators', 'david', 'benioff', 'b', 'weiss', 'obsessed', 'secrecy', 'season', 'declined', 'offer', 'critics', 'advance', 'screener', 'copies', 'say', 'ramsay', 'bad', 'things', 'sometimes', 'think', 'oh', 'god', 'something', 'nice', 'mr', 'rheon', 'said', 'laughing', 'show', 'heroes', 'necessarily', 'standard', 'heroes', 'guess', 'villains', 'need', 'even', 'worse', 'mr', 'rheon', 'wears', 'hated', 'mantle', 'easily', 'accounts', 'charming', 'young', 'welshman', 'name', 'pronounced', 'oo', 'wan', 'ohn', 'grew', 'cardiff', 'lives', 'london', 'amused', 'notoriety', 'claims', 'honor', 'considered', 'despicable', 'thing', 'show', 'full', 'despicable', 'things', 'apparently', 'scarier', 'white', 'walker', 'giant', 'dragon', 'said', 'general', 'fans', 'hold', 'ramsay', 'actions', 'technical', 'realities', 'production', 'keep', 'vile', 'deeds', 'weighing', 'heavily', 'soul', 'flayings', 'example', 'involve', 'piece', 'rubber', 'prop', 'knife', 'hold', 'light', 'catch', 'malevolent', 'angles', 'making', 'hard', 'obsess', 'moral', 'dimensions', 'one', 'exception', 'sansa', 'rape', 'last', 'season', 'difficult', 'really', 'sleep', 'night', 'said', 'like', 'others', 'show', 'however', 'remains', 'somewhat', 'perplexed', 'outrage', 'sparked', 'less', 'anger', 'scale', 'selective', 'nature', 'episodes', 'later', 'noted', 'immolation', 'little', 'girl', 'drew', 'comparatively', 'muted', 'response', 'want', 'compare', 'things', 'worse', 'said', 'burning', 'child', 'stake', 'pretty', 'bad', 'man', 'known', 'onscreen', 'villainy', 'mr', 'rheon', 'could', 'hardly', 'brand', 'conversation', 'self', 'deprecating', 'solicitous', 'given', 'wisecracks', 'silly', 'tangents', 'asked', 'favorite', 'screen', 'scoundrels', 'listed', 'stringer', 'bell', 'wire', 'rex', 'jurassic', 'park', 'perhaps', 'jarring', 'thrones', 'fans', 'spends', 'spare', 'time', 'writing', 'recording', 'folk', 'pop', 'tunes', 'mostly', 'occasionally', 'brother', 'aled', 'last', 'year', 'released', 'first', 'album', 'dinard', 'really', 'nice', 'fellow', 'said', 'mr', 'allen', 'target', 'ramsay', 'gruesome', 'depredations', 'put', 'finger', 'makes', 'good', 'psychopath', 'actors', 'friends', 'camera', 'occasionally', 'encounter', 'incredulous', 'fans', 'stunned', 'see', 'spending', 'time', 'together', 'like', 'believe', 'dragons', 'mate', 'mr', 'allen', 'said', 'person', 'removed', 'dank', 'interiors', 'typically', 'haunts', 'game', 'thrones', 'mr', 'rheon', 'face', 'cherubic', 'demonic', 'rakish', 'scruff', 'artfully', 'tousled', 'hair', 'gets', 'runs', 'hands', 'conversation', 'defines', 'though', 'pair', 'arresting', 'pale', 'blue', 'eyes', 'tend', 'bulge', 'maniacally', 'game', 'thrones', 'alight', 'delight', 'comes', 'cruelty', 'another', 'stare', 'wide', 'eyed', 'smiling', 'gaze', 'pierces', 'right', 'ms', 'turner', 'said', 'born', 'carmarthen', 'mr', 'rheon', 'family', 'moved', 'cardiff', 'grew', 'playing', 'punk', 'bands', 'dreaming', 'rock', 'stardom', 'participation', 'eisteddfod', 'major', 'culture', 'festival', 'wales', 'led', 'cast', 'welsh', 'soap', 'opera', 'went', 'study', 'london', 'academy', 'music', 'dramatic', 'art', 'breakthrough', 'role', 'came', 'long', 'graduated', 'suicidal', 'moritz', 'london', 'production', 'musical', 'spring', 'awakening', 'role', 'one', 'first', 'many', 'troubled', 'tormented', 'otherwise', 'odd', 'folks', 'hired', 'play', 'awkward', 'juvenile', 'delinquent', 'misfits', 'skewed', 'superhero', 'series', 'britain', 'erratic', 'drug', 'dealer', 'film', 'wild', 'bill', 'traumatized', 'soldier', 'bbc', 'war', 'drama', 'girl', 'exception', 'gig', 'earnest', 'neighbor', 'ian', 'mckellen', 'derek', 'jacobi', 'british', 'sitcom', 'vicious', 'game', 'thrones', 'mr', 'rheon', 'originally', 'auditioned', 'role', 'heroic', 'theoretically', 'dead', 'jon', 'snow', 'instead', 'went', 'kit', 'harington', 'talent', 'versatility', 'kept', 'radar', 'mr', 'benioff', 'mr', 'weiss', 'wrote', 'joint', 'email', 'joined', 'show', 'ramsay', 'season', 'spark', 'humanity', 'iwan', 'occasionally', 'provides', 'makes', 'stuff', 'much', 'terrifying', 'ramsay', 'season', 'long', 'torture', 'theon', 'tested', 'viewers', 'patience', 'acquired', 'texture', 'became', 'clear', 'fueled', 'toxic', 'cocktail', 'adoration', 'resentment', 'toward', 'father', 'roose', 'bolton', 'michael', 'mcelhatton', 'combination', 'little', 'boy', 'psychopath', 'makes', 'ramsay', 'cardboard', 'cutout', 'evil', 'baddie', 'mr', 'mcelhatton', 'said', 'also', 'situates', 'firmly', 'within', 'brutal', 'multigenerational', 'cycle', 'legacy', 'revenge', 'makes', 'game', 'thrones', 'go', 'even', 'actor', 'still', 'sure', 'fits', 'well', 'trying', 'figure', 'difficult', 'objectively', 'look', 'get', 'cast', 'strange', 'people', 'mr', 'rheon', 'said', 'big', 'eyes', 'maybe', 'added', 'complaining']\n"
     ]
    }
   ],
   "source": [
    "from google import search_news\n",
    "from nltk.corpus import stopwords\n",
    "import re\n",
    "\n",
    "\n",
    "links = []\n",
    "\n",
    "for url in search_news('batman site:http://www.cnn.com/', stop = 5):\n",
    "    links.append(url)\n",
    "\n",
    "\n",
    "    \n",
    "# for link in links:    \n",
    "request_get_cnn = requests.get('http://www.cnn.com/2016/04/11/world/isis-shooting-turkey-alshurqat/')\n",
    "\n",
    "soup_cnn = BeautifulSoup(request_get_cnn.text, 'html.parser')\n",
    "body_text_cnn = ''\n",
    "    \n",
    "\n",
    "\n",
    "title = soup_cnn.find('h1', {\"class\" : 'pg-headline'}).get_text()\n",
    "for item in soup_cnn.find_all('', {\"class\" : 'zn-body__paragraph'}):\n",
    "   \n",
    "    body_text_cnn += item.get_text()\n",
    "    \n",
    "# print(title)\n",
    "# print(body_text_cnn)\n",
    "# print(soup_cnn.find({'itemProp' : 'datePublished'}))\n",
    "# print(soup_cnn.find('p', {\"class\" : 'update-time'}).get_text())\n",
    "\n",
    "alternative_text = \"BEVERLY HILLS, CALIF. \\u2014 Like many successful actors, Iwan Rheon, better known as the blithely malicious Ramsay Bolton on \\u201cGame of Thrones,\\u201d arguably the most hated man on television, admits he\\u2019s concerned about being narrowly defined by an indelible character. But ask a logical follow-up question \\u2014 what else are you working on? \\u2014 and the scale of his challenge becomes clear.\\u201cI\\u2019m playing a young Hitler,\\u201d he replied, referring to the British television movie \\u201cAdolf the Artist.\\u201d Then realization took hold, and his face crumpled in mock despair: \\u201cOh, I\\u2019m typecast already!\\u201dSuch is life for the man behind a character who, over three seasons on \\u201cGame of Thrones,\\u201d returning Sunday on HBO, has become the emblem of a disquieting show\\u2019s darkest impulses. Since arriving as a one-note sadist in Season 3, this striving, legitimized former bastard has expanded to both embody the story\\u2019s dynastic obsession and inflict some of its most flagrant abuses. That list includes the flaying and gelding of rivals, the recreational hunting of a girl and, most controversial, last season\\u2019s wedding-night rape of his hostage bride, Sansa Stark (Sophie Turner).That he does it all with schoolboy glee makes him that much more viscerally loathsome \\u2014 Mr. Rheon conceived Ramsay as a mash-up of Heath Ledger\\u2019s unhinged Joker and Dennis the Menace, he said, and added a bit of the swagger of Liam Gallagher, the dyspeptic former Oasis singer. The resulting confection has landed on many \\u201cmost-hated\\u201d lists online. In December, readers of The Atlantic voted Ramsay \\u201cthe actual worst character on television\\u201d over the likes of Hannibal Lecter and Walter White, as well as Joffrey Baratheon, the sneering boy-king Ramsay replaced as the signature \\u201cGame of Thrones\\u201d villain.\\u201cAfter we lost Joffrey, we had a psychopath-shaped hole in the \\u2018Thrones\\u2019 world,\\u201d Ms. Turner wrote in an email. \\u201cBut Iwan brings a terror and a creepiness that Joffrey never had. We needed someone to hate, and we love to hate him.\\u201dIn the new season, the show\\u2019s sixth, Ramsay deepens further, Mr. Rheon suggested, even approaching something like human emotion in mourning a girlfriend killed in the Season 5 finale. \\u201cThat surprised even me,\\u201d he said. Of course, it also finds him seething over last season\\u2019s escape of his captives Sansa and Theon (Alfie Allen) \\u2014 the young nobleman he castrated, forced into servitude and renamed Reek \\u2014 and sets up who may be his most appalling victim yet: an as-yet-unborn stepsibling who could be a competing heir.[ \\u201cGame of Thrones\\u201d has moved past its blueprint. That\\u2019s a good thing. ]The show\\u2019s creators, David Benioff and D. B. Weiss, so obsessed with secrecy this season they\\u2019ve declined to offer critics advance screener copies, will say only that Ramsay will be up to \\u201cvery bad things.\\u201d\\u201cSometimes you just think, \\u2018Oh God, can\\u2019t we just do something nice?\\u2019\\u201d Mr. Rheon said, laughing. \\u201cOn this show, the heroes aren\\u2019t necessarily standard heroes, so I guess your villains need to be even worse.\\u201dMr. Rheon, 30, wears the most-hated mantle easily. By all accounts a charming young Welshman \\u2014 his name is pronounced OO-wan re-OHN, and he grew up in Cardiff and now lives in London \\u2014 he is amused by the notoriety and claims it is \\u201can honor\\u201d to be considered the most despicable thing on a show full of despicable things. \\u201cApparently I\\u2019m scarier than a White Walker. And a giant. And a dragon,\\u201d he said.In general, fans don\\u2019t hold Ramsay\\u2019s actions against him, and the technical realities of production keep the vile deeds from weighing too heavily on his soul. Flayings, for example, involve a piece of rubber and a prop knife he has to hold just so for the light to catch its malevolent angles, making it hard to obsess over the moral dimensions.One exception was Sansa\\u2019s rape last season, which \\u201cwas very difficult to me; I couldn\\u2019t really sleep the night before,\\u201d he said. Like others on the show, however, he remains somewhat perplexed by the outrage it sparked, less by the anger itself than by the scale and selective nature of it. A few episodes later, he noted, the immolation of a little girl drew a comparatively muted response. \\u201cI don\\u2019t want to compare these things and which is worse,\\u201d he said. \\u201cBut burning a child at the stake? That\\u2019s pretty bad, isn\\u2019t it?\\u201dFor a man known for onscreen villainy, Mr. Rheon could hardly be more off-brand in conversation. Self-deprecating and solicitous, he is given to wisecracks and silly tangents \\u2014 asked his own favorite screen scoundrels, he listed Stringer Bell from \\u201cThe Wire\\u201d and the T. rex from \\u201cJurassic Park.\\u201d Perhaps most jarring for \\u201cThrones\\u201d fans: He spends his spare time writing and recording folk-pop tunes, mostly on his own but occasionally with his brother, Aled. Last year he released his first album, \\u201cDinard.\\u201d\\u201cHe\\u2019s just a really nice fellow,\\u201d said Mr. Allen, the target of Ramsay\\u2019s most gruesome depredations. \\u201cI couldn\\u2019t put a finger on why he makes a good psychopath.\\u201d (The actors, friends off camera, occasionally encounter incredulous fans who are stunned to see them spending time together. \\u201cIt\\u2019s like, do you believe in dragons, too, mate?\\u201d Mr. Allen said.)In person, removed from the dank interiors he typically haunts on \\u201cGame of Thrones,\\u201d Mr. Rheon\\u2019s face is more cherubic than demonic, with a rakish scruff and artfully tousled hair that gets more so as he runs his hands through it in conversation. What defines him, though, are a pair of arresting pale blue eyes that tend to bulge maniacally on \\u201cGame of Thrones,\\u201d alight with the delight that comes from some cruelty or another.\\u201cHe has this stare, this wide-eyed smiling gaze that pierces right through you,\\u201d Ms. Turner said.Born in Carmarthen, Mr. Rheon and his family moved to Cardiff when he was 5, and he grew up playing in punk bands and dreaming of rock stardom. But participation in the Eisteddfod, a major culture festival in Wales, led to him being cast in a Welsh soap opera, and he went on to study at the London Academy of Music and Dramatic Art. His breakthrough role came not long after he graduated, as the suicidal Moritz in a 2009 London production of the musical \\u201cSpring Awakening.\\u201dThe role was one of the first of many troubled, tormented or otherwise odd folks he\\u2019d be hired to play. He was an awkward juvenile delinquent in \\u201cMisfits,\\u201d a skewed superhero series in Britain; an erratic drug dealer in the film \\u201cWild Bill\\u201d; and a traumatized soldier in the BBC war drama \\u201cOur Girl.\\u201d (An exception: his gig as the earnest neighbor to Ian McKellen and Derek Jacobi on the British sitcom \\u201cVicious.\\u201d)For \\u201cGame of Thrones,\\u201d Mr. Rheon originally auditioned for the role of the heroic (and theoretically dead) Jon Snow, which instead went to Kit Harington. But his talent and versatility kept him \\u201con our radar,\\u201d Mr. Benioff and Mr. Weiss wrote in a joint email; he joined the show as Ramsay in Season 3. \\u201cThe spark of humanity that Iwan occasionally provides makes all the other stuff that much more terrifying.\\u201dRamsay\\u2019s season-long torture of Theon tested viewers\\u2019 patience, but he acquired texture as it became clear that he\\u2019s fueled by a toxic cocktail of adoration and resentment toward his father, Roose Bolton (Michael McElhatton). The combination of \\u201cthe little boy and the psychopath\\u201d makes Ramsay \\u201cmore than a cardboard cutout evil baddie,\\u201d Mr. McElhatton said. It also situates him firmly within the brutal, multigenerational cycle of legacy and revenge that makes \\u201cGame of Thrones\\u201d go \\u2014 even if the actor still isn\\u2019t sure why he fits in so well.\\u201cI\\u2019ve been trying to figure out what it is, but it\\u2019s so difficult to objectively look at why you get cast as all these strange people,\\u201d Mr. Rheon said. \\u201cThe big eyes, maybe.\\u201d\\u201cBut,\\u201d he added, \\u201cI\\u2019m not complaining.\\u201d\"\n",
    "\n",
    "\n",
    "letters_only = re.sub(\"[^a-zA-Z]\", \" \", alternative_text)\n",
    "\n",
    "lower_case = letters_only.lower()\n",
    "#Split the lower_case article into individual words\n",
    "full_wordset = lower_case.split(' ')\n",
    "\n",
    "final_words = [w for w in full_wordset if w not in stopwords.words(\"english\") and w not in ['', ' ']]\n",
    "\n",
    "print(final_words)\n",
    "    \n",
    "    \n",
    "    \n",
    "    \n",
    "    \n",
    "    \n",
    "\n"
   ]
  },
  {
   "cell_type": "code",
   "execution_count": null,
   "metadata": {
    "collapsed": true
   },
   "outputs": [],
   "source": []
  }
 ],
 "metadata": {
  "kernelspec": {
   "display_name": "Python 3",
   "language": "python",
   "name": "python3"
  },
  "language_info": {
   "codemirror_mode": {
    "name": "ipython",
    "version": 3
   },
   "file_extension": ".py",
   "mimetype": "text/x-python",
   "name": "python",
   "nbconvert_exporter": "python",
   "pygments_lexer": "ipython3",
   "version": "3.5.1"
  }
 },
 "nbformat": 4,
 "nbformat_minor": 0
}
