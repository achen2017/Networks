{
 "cells": [
  {
   "cell_type": "code",
   "execution_count": 5,
   "metadata": {
    "collapsed": true
   },
   "outputs": [],
   "source": [
    "import feedparser\n",
    "import requests\n",
    "from bs4 import BeautifulSoup"
   ]
  },
  {
   "cell_type": "code",
   "execution_count": null,
   "metadata": {
    "collapsed": true
   },
   "outputs": [],
   "source": [
    "target_article_rss = feedparser.parse('http://rss.nytimes.com/services/xml/rss/nyt/Europe.xml')['entries']"
   ]
  },
  {
   "cell_type": "code",
   "execution_count": null,
   "metadata": {
    "collapsed": false,
    "scrolled": true
   },
   "outputs": [],
   "source": [
    "target_article_rss[0]"
   ]
  },
  {
   "cell_type": "code",
   "execution_count": 8,
   "metadata": {
    "collapsed": false
   },
   "outputs": [
    {
     "name": "stdout",
     "output_type": "stream",
     "text": [
      "Religious leader shot in Turkey, ISIS claims responsibility \n",
      "Updated 7:34 PM ET, Mon April 11, 2016 \n"
     ]
    }
   ],
   "source": [
    "from google import search_news\n",
    "\n",
    "links = []\n",
    "\n",
    "for url in search_news('batman site:http://www.cnn.com/', stop = 5):\n",
    "    links.append(url)\n",
    "\n",
    "\n",
    "    \n",
    "# for link in links:    \n",
    "request_get_cnn = requests.get('http://www.cnn.com/2016/04/11/world/isis-shooting-turkey-alshurqat/')\n",
    "\n",
    "soup_cnn = BeautifulSoup(request_get_cnn.text, 'html.parser')\n",
    "body_text_cnn = ''\n",
    "    \n",
    "\n",
    "\n",
    "title = soup_cnn.find('h1', {\"class\" : 'pg-headline'}).get_text()\n",
    "for item in soup_cnn.find_all('', {\"class\" : 'zn-body__paragraph'}):\n",
    "   \n",
    "    body_text_cnn += item.get_text()\n",
    "    \n",
    "print(title)\n",
    "# print(body_text_cnn)\n",
    "# print(soup_cnn.find({'itemProp' : 'datePublished'}))\n",
    "print(soup_cnn.find('p', {\"class\" : 'update-time'}).get_text())\n",
    "    \n",
    "    \n",
    "    \n",
    "    \n",
    "    \n",
    "    \n",
    "\n"
   ]
  },
  {
   "cell_type": "code",
   "execution_count": null,
   "metadata": {
    "collapsed": true
   },
   "outputs": [],
   "source": []
  }
 ],
 "metadata": {
  "kernelspec": {
   "display_name": "Python 3",
   "language": "python",
   "name": "python3"
  },
  "language_info": {
   "codemirror_mode": {
    "name": "ipython",
    "version": 3
   },
   "file_extension": ".py",
   "mimetype": "text/x-python",
   "name": "python",
   "nbconvert_exporter": "python",
   "pygments_lexer": "ipython3",
   "version": "3.5.1"
  }
 },
 "nbformat": 4,
 "nbformat_minor": 0
}
