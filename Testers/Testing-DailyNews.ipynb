{
 "cells": [
  {
   "cell_type": "code",
   "execution_count": 1,
   "metadata": {
    "collapsed": true
   },
   "outputs": [],
   "source": [
    "import feedparser\n",
    "import requests\n",
    "from bs4 import BeautifulSoup"
   ]
  },
  {
   "cell_type": "code",
   "execution_count": 2,
   "metadata": {
    "collapsed": false
   },
   "outputs": [
    {
     "name": "stdout",
     "output_type": "stream",
     "text": [
      "Sen. Bernie Sanders called a comment made from his rally's stage last night in New York City 'inappropriate and insensitive' after being criticized for it by Hillary Clinton's campaign.  Healthcare activist Paul Song labeled those who chose to keep the current private healthcare system intact, like Hillary Clinton, instead of advocating for a Medicare-for-all plan, like Sanders, 'Democratic whores.' Sanders responded this morning with a tweet: 'Dr. Song's comment was inappropriate and insensitive. There's no room for language like that in our political discourse.' His wife Jane was also asked about the comment  this morning on CNN and seemed miffed. 'I'm sorry, I didn't hear it at all,' Sanders said. 'It's a strange choice of words and I can't imagine anybody was speaking about Secretary Clinton that way.' Scroll down for videoJane Sanders appeared miffed when asked about comments made onstage at last night's Bernie Sanders rally  when one speaker labeled Democrats holding Hillary Clinton's position on healthcare 'Democratic whores'Healthcare activist Paul Song tweeted out this statement after his comments at the Bernie Sanders rally started making waves Song had gotten ahead of the story by sending out a tweet last night apologizing for the remark. In full he had said, 'Medicare-for-all will never happen if we continue to elect corporate Democratic whores who are beholden to big pharma and the private insurance industry instead of us.' On Twitter he remarked that, 'I am very sorry for using the term \"whore\" to refer to some in congress who are beholden to corporations and not us. It was insensitive.' But by this morning the Clinton campaign was already asking for an apology. 'Very distressing language to say the least,' wrote Jennifer Palmieri, Clinton's communications director, on Twitter. 'Bernie Sanders should disavow,' she added. Instead, Jane Sanders said, 'I don't know who said that.'  Cuomo made clear that Song's speech was delivered before Jane and Bernie Sanders arrived at the packed New York City park, which attracted thousands, in advance of Tuesday's primary in the state. Hillary Clinton's communications director Jennifer Palmieri tweeted about the comments this morning, suggesting Bernie Sanders should apologize Jane Sanders told Chris Cuomo that a 'mischoice' of words isn't as bad as 'trying to carry out a strategy of trying to disqualify people' - aiming her ire at the Clinton campaign Asked about whether the campaign should own the comments and react, Sanders said yes, but also went on the attack.  'Well, I think all campaigns really need to take some responsibility for what surrogates said,' Jane Sanders replied. 'A mischoice of words is not as important as trying to carry out a strategy of trying to disqualify people or try to make them feel less-than.' Here Jane Sanders seemed to be bringing back up a tiff between the two Democratic camps that began when Clinton refused to say whether Sanders was qualified to be president during an interview on Morning Joe. Clinton, in the aftermath of Sanders' embarrassing New York Daily News editorial board interview, suggested the senator 'hadn't done his homework.' 'And he'd been talking for more than a year about doing things that he obviously hadn't really studied or understood,' she continued. 'And that does raise a lot of question,' the former secretary of state added.  A Washington Post headline suggested that Clinton had questioned Sanders' qualifications and the spat snowballed from there.Jane Sanders indicated she would not soon forgive those digs from Clinton in her comments this morning.'I think there's a lot of that to go around,' she said. \n"
     ]
    }
   ],
   "source": [
    "from google import search_news\n",
    "\n",
    "\n",
    "# sanders site:http://www.usatoday.com\n",
    "# for link in links:    \n",
    "request_get_daily = requests.get('http://www.dailymail.co.uk/news/article-3539904/Bernie-Sanders-wife-Jane-doesn-t-apologize-Democratic-whores-comment-didn-t-hear-all.html')\n",
    "\n",
    "soup_daily = BeautifulSoup(request_get_daily.text, 'html.parser')\n",
    "body_text_daily = ''\n",
    "    \n",
    "\n",
    "\n",
    "for item in soup_daily.find_all('div', {\"itemprop\" : 'articleBody'}):\n",
    "    for paragraph in item.find_all('p'):\n",
    "        body_text_daily += paragraph.get_text()\n",
    "    \n",
    "\n",
    "print(body_text_daily)\n",
    "\n",
    "    \n",
    "\n"
   ]
  },
  {
   "cell_type": "code",
   "execution_count": null,
   "metadata": {
    "collapsed": true
   },
   "outputs": [],
   "source": []
  }
 ],
 "metadata": {
  "kernelspec": {
   "display_name": "Python 3",
   "language": "python",
   "name": "python3"
  },
  "language_info": {
   "codemirror_mode": {
    "name": "ipython",
    "version": 3
   },
   "file_extension": ".py",
   "mimetype": "text/x-python",
   "name": "python",
   "nbconvert_exporter": "python",
   "pygments_lexer": "ipython3",
   "version": "3.5.1"
  }
 },
 "nbformat": 4,
 "nbformat_minor": 0
}
