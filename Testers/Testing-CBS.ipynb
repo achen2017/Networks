{
 "cells": [
  {
   "cell_type": "code",
   "execution_count": 1,
   "metadata": {
    "collapsed": true
   },
   "outputs": [],
   "source": [
    "import feedparser\n",
    "import requests\n",
    "from bs4 import BeautifulSoup"
   ]
  },
  {
   "cell_type": "code",
   "execution_count": 2,
   "metadata": {
    "collapsed": false
   },
   "outputs": [
    {
     "name": "stdout",
     "output_type": "stream",
     "text": [
      "Bernie Sanders on Thursday said of a statement a campaign surrogate made a night earlier about \"corporate whores\" that it was \"inappropriate and insensitive.\"The Vermont independent tweeted Thursday morning about a comment made at one of his New York rallies by health care activist Dr. Paul Song.Dr. Song's comment was inappropriate and insensitive. There's no room for language like that in our political discourse.In Manhattan's Washington Square Park Wednesday night, before Sanders took the stage, Song had slammed Clinton.\"Now Secretary Clinton has said that Medicare for all will never happen. Well, I agree with Secretary Clinton that Medicare for all will never happen if we have a president who never aspires for something greater than the status quo,\" Song said, according to MSNBC. And he continued, \"Medicare for all will never happen if we continue to elect corporate Democratic whores who are beholden to big pharma and the private insurance industry instead of us.\"Some thought when Song said \"corporate Democratic whores\" that he was referring to Clinton. On Wednesday night, he apologized for the remark, while denying that he was talking about Clinton.I am very sorry for using the term \"whore\" to refer to some in congress who are beholden to corporations and not us. It was insensitive.Song is married to journalist Lisa Ling, who supports Clinton. President Bill Clinton helped rescue Ling's sister from a North Korean prison in 2009.This comes ahead of the Brooklyn debate on Thursday where Clinton and Sanders will face off just days before the state's primary on Tuesday. Recent polls show that Clinton is leading in the Empire State. A Quinnipiac University poll released Tuesday found 53 percent of likely Democratic voters back her while 40 percent said they are for Sanders.\n"
     ]
    }
   ],
   "source": [
    "from google import search_news\n",
    "\n",
    "\n",
    "# http://www.cbsnews.com\n",
    "# for link in links:    \n",
    "request_get_cbs = requests.get('http://www.cbsnews.com/news/bernie-sanders-denounces-supporters-corporate-whore-comment/')\n",
    "\n",
    "soup_cbs = BeautifulSoup(request_get_cbs.text, 'html.parser')\n",
    "body_text_cbs = ''\n",
    "    \n",
    "\n",
    "for item in soup_cbs.find_all('div', {\"itemprop\" : 'articleBody'}):\n",
    "    for paragraph in item.find_all('p'):\n",
    "        body_text_cbs += paragraph.get_text()\n",
    "    \n",
    "    \n",
    "print(body_text_cbs)\n",
    "\n",
    "    \n",
    "\n"
   ]
  },
  {
   "cell_type": "code",
   "execution_count": null,
   "metadata": {
    "collapsed": true
   },
   "outputs": [],
   "source": []
  }
 ],
 "metadata": {
  "kernelspec": {
   "display_name": "Python 3",
   "language": "python",
   "name": "python3"
  },
  "language_info": {
   "codemirror_mode": {
    "name": "ipython",
    "version": 3
   },
   "file_extension": ".py",
   "mimetype": "text/x-python",
   "name": "python",
   "nbconvert_exporter": "python",
   "pygments_lexer": "ipython3",
   "version": "3.5.1"
  }
 },
 "nbformat": 4,
 "nbformat_minor": 0
}
