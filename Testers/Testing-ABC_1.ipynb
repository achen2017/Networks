{
 "cells": [
  {
   "cell_type": "code",
   "execution_count": 1,
   "metadata": {
    "collapsed": true
   },
   "outputs": [],
   "source": [
    "import feedparser\n",
    "import requests\n",
    "from bs4 import BeautifulSoup"
   ]
  },
  {
   "cell_type": "code",
   "execution_count": 4,
   "metadata": {
    "collapsed": false
   },
   "outputs": [
    {
     "name": "stdout",
     "output_type": "stream",
     "text": [
      "'Batman v Superman': What Happened to Brandon Routh\n",
      "\n",
      "Everyone is excited about the release of \"Batman v Superman: Dawn of Justice\" and Henry Cavill's second stint as the Man of Steel.\n",
      "\n",
      "But what about the actor who was Superman for only one film in 2006, Brandon Routh? Did you know he's currently another superhero on \"Legends of Tomorrow\"?\n",
      "\n",
      "Let's dive in and look at the career of Routh post 2006's \"Superman Returns.\"\n",
      "\n",
      "\n",
      "\n",
      "\n",
      "\n",
      "Despite the one and done for Routh, \"Superman Returns\" actually has a 76 percent on Rotten Tomatoes. The movie was panned by fans, but directed by \"X-Men's\" Bryan Singer and starred Kevin Spacey as Lex Luthor and Kate Bosworth as Lois Lane.\n",
      "\n",
      "It featured the Man of Steel's return after a prolonged absence and how the people of Metropolis had adjusted to life without their savior. It was also the first big Superman movie since the iconic Christopher Reeve wore the red cape in the 70s and 80s.\n",
      "\n",
      "The movie made almost $400 million at the box offices, but critics like Roger Ebert called the film, \"a glum, lackluster movie in which even the big effects sequences seem dutiful instead of exhilarating.\" He added that Routh lacked the charisma that Reeve was known for in his Super run.\n",
      "\n",
      "Routh stands by his turn as Superman, though.\n",
      "\n",
      "\"It was well-reviewed and well-liked, and about a year after it, they started to be down on it,\" he told MTV in 2013. \"Listen, everybody that I meet says they liked the movie. It is unfortunate that people have to preface things with, 'I don’t care what anyone else says, but I like the movie.' They should just be able to be proud and happy that they liked 'Superman Returns.' I am proud and happy they liked 'Superman Returns.'\"\n",
      "\n",
      "He added, \"I would have liked to done another movie. I love the character.\"\n",
      "\n",
      "\"Superman Returns\" may not have been the career starter that Routh hoped for, but in the following years, he worked his way back and found a niche.\n",
      "\n",
      "He was featured in cult films like \"Zack and Miri Make a Porno\" and \"Scott Pilgrim vs. the World.\" Then in 2010, he returned to action in \"Chuck.\" He had a real arc and fluctuated from good to bad guy in the series.\n",
      "\n",
      "\n",
      "\n",
      "He had other prolonged stints with \"Partners\" from 2012 to 2013, then \"Chosen\" from 2013 to 2014. Then in 2014, Routh found a similar role to Superman in appearances on \"Arrow\" and \"The Flash\" as Ray Palmer, a scientist, who is about as good and pure as a human can be and flies around, fighting crime. Sound familiar?\n",
      "\n",
      "His run as Palmer, aka The Atom, was so well-received that he got his own show, \"Legends of Tomorrow,\" which has also been supported by comic fans. It's based off a DC Comic, as well!\n",
      "\n",
      "Routh told Den of Geek this year that this may be the longest time he's been with one role.\n",
      "\n",
      "\"I spent a long time thinking about Superman,\" he said. \"I didn’t play him for as many hours on film but I definitely lived with Superman for about a year and a half. We’re kind of getting to that time now of living with Ray, certainly putting more Ray on camera.\"\n",
      "\n",
      "This past January, Routh stopped by \"The Real\" and said he's comfortable in his role now, but still appreciated his big shot in 2006.\n",
      "\n",
      "\"I often get asked what's better to play, Superman or The Atom,\" he said. \"Superman was like the pinnacle of all superheros and the movie that made my career, so you can't really compare, necessarily, but they are all fun.\"\n"
     ]
    }
   ],
   "source": [
    "from google import search_news\n",
    "\n",
    "\n",
    "#     batman site:http://abcnews.go.com/\n",
    "# for link in links:    \n",
    "request_get_abc = requests.get('http://abcnews.go.com/Entertainment/batman-superman-happened-brandon-routh/story?id=37896669')\n",
    "\n",
    "soup_abc = BeautifulSoup(request_get_abc.text, 'html.parser')\n",
    "body_text_abc = ''\n",
    "    \n",
    "\n",
    "for item in soup_abc.find_all('p', {\"itemprop\" : 'articleBody'}):\n",
    "   \n",
    "    body_text_abc += item.get_text()\n",
    "    \n",
    "\n",
    "bill = soup_abc.find('header', {\"class\" : 'article-header'}).h1.get_text()\n",
    "print(bill)\n",
    "print(body_text_abc)\n",
    "\n",
    "    \n",
    "\n"
   ]
  },
  {
   "cell_type": "code",
   "execution_count": null,
   "metadata": {
    "collapsed": true
   },
   "outputs": [],
   "source": []
  }
 ],
 "metadata": {
  "kernelspec": {
   "display_name": "Python 3",
   "language": "python",
   "name": "python3"
  },
  "language_info": {
   "codemirror_mode": {
    "name": "ipython",
    "version": 3
   },
   "file_extension": ".py",
   "mimetype": "text/x-python",
   "name": "python",
   "nbconvert_exporter": "python",
   "pygments_lexer": "ipython3",
   "version": "3.5.1"
  }
 },
 "nbformat": 4,
 "nbformat_minor": 0
}
